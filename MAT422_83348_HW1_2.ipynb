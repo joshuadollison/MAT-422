{
  "nbformat": 4,
  "nbformat_minor": 0,
  "metadata": {
    "colab": {
      "provenance": [],
      "authorship_tag": "ABX9TyMZu98IIxWov7TMhTPHkXCH",
      "include_colab_link": true
    },
    "kernelspec": {
      "name": "python3",
      "display_name": "Python 3"
    },
    "language_info": {
      "name": "python"
    }
  },
  "cells": [
    {
      "cell_type": "markdown",
      "metadata": {
        "id": "view-in-github",
        "colab_type": "text"
      },
      "source": [
        "<a href=\"https://colab.research.google.com/github/joshuadollison/MAT-422/blob/main/MAT422_83348_HW1_2.ipynb\" target=\"_parent\"><img src=\"https://colab.research.google.com/assets/colab-badge.svg\" alt=\"Open In Colab\"/></a>"
      ]
    },
    {
      "cell_type": "code",
      "execution_count": 1,
      "metadata": {
        "id": "LJ3lQf-2u4HB"
      },
      "outputs": [],
      "source": [
        "import numpy as np\n",
        "\n",
        "from numpy.linalg import matrix_rank\n",
        "from numpy.linalg import norm\n"
      ]
    },
    {
      "cell_type": "markdown",
      "source": [
        "# **1.2.1 Linear Spaces**\n",
        "\n",
        "A linear combination in linear algebra is a new vector constructed from a subset by multiplying each vector by a constant and adding the results.\n",
        "\n",
        "The span of a set of vectors $\\{V_1,V_2,V_3,...V_n\\}$ is the set of all possible linear combinations of vectors in the set.\n",
        "\n",
        "For any coefficients $a_1,a_2,...,a_n$, the vector $a_1V_1+a_2V_2+a_3V_3+....+a_nV_n$ is said to be in the span of $\\{V_1,V_2,V_3,...V_n\\}$.\n",
        "\n",
        "This example demonstrates how to construct a linear combination of two vectors such that $a_1V_1 + a_2V_2 + a_3V_3 + ... + a_nV_n$.\n",
        "\n",
        "I then demonstrate how to go the other way and use the solve method of numpy's linalg module to show that our vector $y$ is in the span of vectors $v1$ and $v2$."
      ],
      "metadata": {
        "id": "T0WQ_7okcTyo"
      }
    },
    {
      "cell_type": "code",
      "source": [
        "# Define vectors\n",
        "v1 = np.array([1, 2])\n",
        "v2 = np.array([3, 4])\n",
        "print(\"Vector 1\", v1)\n",
        "print(\"Vector 2\", v2)\n",
        "\n",
        "# Linear combination\n",
        "alpha1, alpha2 = 2, 3\n",
        "linear_combination = alpha1 * v1 + alpha2 * v2\n",
        "print(\"Linear Combination:\", linear_combination)\n"
      ],
      "metadata": {
        "colab": {
          "base_uri": "https://localhost:8080/"
        },
        "id": "l1cJeLmecZ3M",
        "outputId": "dbbc0e77-013a-4b1c-88bf-6206c46e03af"
      },
      "execution_count": 2,
      "outputs": [
        {
          "output_type": "stream",
          "name": "stdout",
          "text": [
            "Vector 1 [1 2]\n",
            "Vector 2 [3 4]\n",
            "Linear Combination: [11 16]\n"
          ]
        }
      ]
    },
    {
      "cell_type": "code",
      "source": [
        "x = np.array([[1,3],\n",
        "              [2,4]])\n",
        "print(x)\n",
        "y = ([11, 16])\n",
        "scalars = np.linalg.solve(x, y)\n",
        "scalars"
      ],
      "metadata": {
        "colab": {
          "base_uri": "https://localhost:8080/"
        },
        "id": "tTkiTEyHjtPM",
        "outputId": "77e102b3-58ce-4854-9094-0b5f8a286471"
      },
      "execution_count": 3,
      "outputs": [
        {
          "output_type": "stream",
          "name": "stdout",
          "text": [
            "[[1 3]\n",
            " [2 4]]\n"
          ]
        },
        {
          "output_type": "execute_result",
          "data": {
            "text/plain": [
              "array([2., 3.])"
            ]
          },
          "metadata": {},
          "execution_count": 3
        }
      ]
    },
    {
      "cell_type": "markdown",
      "source": [
        "# **1.2.1.2 Linear Independence and Dimension**\n",
        "\n",
        "A list of vectors $u_1,...,u_m$ is linearly independent if none of them can be written as a linear combination of the others.\n",
        "\n",
        "A list of vectors is called linearly dependent if it is not linearly independent.\n",
        "\n",
        "This example checks whether a set of vectors is linearly independent by calculating the rank of the matrix formed by these vectors. It demonstrates the concept of linear independence and how it relates to the dimension of a vector space."
      ],
      "metadata": {
        "id": "8RKKpwjZXhFz"
      }
    },
    {
      "cell_type": "code",
      "source": [
        "def is_lin_dep(matrix) :\n",
        "  # Check if vectors are linearly independent\n",
        "  rank = matrix_rank(matrix)\n",
        "  print(\"Matrix Rank:\", rank)\n",
        "  if rank == matrix.shape[1]:\n",
        "      print(\"Vectors are linearly independent\")\n",
        "  else:\n",
        "      print(\"Vectors are linearly dependent\")\n",
        "\n",
        "# Define matrix with column vectors\n",
        "matrix = np.array([[1, 2, 3],\n",
        "                   [4, 5, 6],\n",
        "                   [7, 8, 9]])\n",
        "\n",
        "is_lin_dep(matrix)\n",
        "\n",
        "# Define matrix with column vectors\n",
        "matrix = np.array([[1, 2, 3],\n",
        "                   [4, 5, 6],\n",
        "                   [7, 8, 0]])\n",
        "\n",
        "is_lin_dep(matrix)"
      ],
      "metadata": {
        "colab": {
          "base_uri": "https://localhost:8080/"
        },
        "id": "7-dQjyGuXqXp",
        "outputId": "e8cab93c-0f69-49d5-f172-26b29ab844ef"
      },
      "execution_count": 4,
      "outputs": [
        {
          "output_type": "stream",
          "name": "stdout",
          "text": [
            "Matrix Rank: 2\n",
            "Vectors are linearly dependent\n",
            "Matrix Rank: 3\n",
            "Vectors are linearly independent\n"
          ]
        }
      ]
    },
    {
      "cell_type": "markdown",
      "source": [
        "# **1.2.2 Orthogonality**\n",
        "\n",
        "A list of vectors $\\{u_1,...,u_m\\}$ is orthonormal if the $u_i$'s are pairwise orthogonal and each has norm 1.\n",
        "\n",
        "This example verifies whether a set of vectors within a matrix forms are orthoganol."
      ],
      "metadata": {
        "id": "3h6LaK13Ypi9"
      }
    },
    {
      "cell_type": "code",
      "source": [
        "def is_ortho(A) :\n",
        "  A_transpose = A.transpose()\n",
        "  A_inverse = np.linalg.inv(A)\n",
        "\n",
        "  print(\"The matrix A: \\n\", A)\n",
        "  if np.allclose(A_transpose, A_inverse) :\n",
        "    print(\"The matrix A is orthogonal\")\n",
        "  else :\n",
        "    print(\"The matrix A is not orthogonal\")\n",
        "\n",
        "A = np.array([[1,0], [0,-1]])\n",
        "is_ortho(A)\n",
        "\n",
        "\n",
        "A = np.array([[1,3], [2,4]])\n",
        "is_ortho(A)"
      ],
      "metadata": {
        "colab": {
          "base_uri": "https://localhost:8080/"
        },
        "id": "6aX6VTggZAgk",
        "outputId": "c37933fc-ff6d-40db-c9d1-805d9a8b5f09"
      },
      "execution_count": 5,
      "outputs": [
        {
          "output_type": "stream",
          "name": "stdout",
          "text": [
            "The matrix A: \n",
            " [[ 1  0]\n",
            " [ 0 -1]]\n",
            "The matrix A is orthogonal\n",
            "The matrix A: \n",
            " [[1 3]\n",
            " [2 4]]\n",
            "The matrix A is not orthogonal\n"
          ]
        }
      ]
    },
    {
      "cell_type": "markdown",
      "source": [
        "# **1.2.3 Gram-Schmidt Process**\n",
        "\n",
        "The Gram-Schmidt algorithm is used to obtain an orthonormal basis. Let $a_1,...,a_m$ be linearly independent. We intend to find an orthonormal basis of span $(a_1,...,a_m)$. The process takes advantage of the properties of the orthogo- nal projection derived above. In essence we add the vectors $a_i$ one by one, but only after taking out their orthogonal projection on the previously included vectors. The outcome spans the same subspace and orthogonal decomposition ensures orthogonality.\n",
        "\n",
        "This example uses the Gram-Schmidt process to convert a set of linearly independent vectors into an orthonormal set."
      ],
      "metadata": {
        "id": "SNut7Qsoef1Q"
      }
    },
    {
      "cell_type": "code",
      "source": [
        "def gram_schmidt(A):\n",
        "    Q, R = np.linalg.qr(A)\n",
        "    return Q, R\n",
        "\n",
        "# Define a matrix\n",
        "A = np.array([[1, 1], [1, 0], [0, 1]])\n",
        "\n",
        "Q, R = gram_schmidt(A)\n",
        "print(\"Orthonormal Basis Q:\\n\", Q)\n",
        "print(\"Upper Triangular Matrix R:\\n\", R)\n"
      ],
      "metadata": {
        "colab": {
          "base_uri": "https://localhost:8080/"
        },
        "id": "5GtwAoqOenAT",
        "outputId": "bbac6750-6a40-4e23-c516-90904ccfad10"
      },
      "execution_count": 6,
      "outputs": [
        {
          "output_type": "stream",
          "name": "stdout",
          "text": [
            "Orthonormal Basis Q:\n",
            " [[-0.70710678  0.40824829]\n",
            " [-0.70710678 -0.40824829]\n",
            " [-0.          0.81649658]]\n",
            "Upper Triangular Matrix R:\n",
            " [[-1.41421356 -0.70710678]\n",
            " [ 0.          1.22474487]]\n"
          ]
        }
      ]
    },
    {
      "cell_type": "markdown",
      "source": [
        "# **1.2.4 Eigenvalues and Eigenvectors**\n",
        "\n",
        "Given a square $nxn$ matrix $A$, a scalar $\\lambda$ is called an eigenvalue of $A$ if there exists some nonzero vector $V$ in $\\mathbb{R}_n$ such that $AV = \\lambda V$.\n",
        "\n",
        "The vector $V$ is the eigenvector associated with $\\lambda$. The equation states that when an eigenvector of $A$ is multiplied by $A$, the result is simply a multiple of the eigenvector.\n",
        "\n",
        "In general, there may be multiple eigenvalues associated with a given matrix, and we will label them as $\\lambda_1, \\lambda_2,$ etc., to keep an orderly notation. We will label eigenvectors in a similar way in order to track which eigenvectors are associated with which eigenvalues.\n",
        "\n",
        "This example computes the eigenvalues and eigenvectors of a square matrix."
      ],
      "metadata": {
        "id": "DAgcGYeRer10"
      }
    },
    {
      "cell_type": "code",
      "source": [
        "# Define a matrix\n",
        "A = np.array([[4, -2],\n",
        "              [1, 1]])\n",
        "\n",
        "# Compute eigenvalues and eigenvectors\n",
        "eigenvalues, eigenvectors = np.linalg.eig(A)\n",
        "print(\"Eigenvalues:\", eigenvalues)\n",
        "print(\"Eigenvectors:\\n\", eigenvectors)\n"
      ],
      "metadata": {
        "colab": {
          "base_uri": "https://localhost:8080/"
        },
        "id": "x-l1FwvQewHb",
        "outputId": "0940bc71-989e-458a-b376-35b4d11aeaed"
      },
      "execution_count": 7,
      "outputs": [
        {
          "output_type": "stream",
          "name": "stdout",
          "text": [
            "Eigenvalues: [3. 2.]\n",
            "Eigenvectors:\n",
            " [[0.89442719 0.70710678]\n",
            " [0.4472136  0.70710678]]\n"
          ]
        }
      ]
    },
    {
      "cell_type": "markdown",
      "source": [
        "# **1.2.4.1 Diagonalization of Symmetric Matrices**\n",
        "\n",
        "In linear algebra, \"diagonalization\" refers to the process of transforming a square matrix into a diagonal matrix, where all non-diagonal elements are zero, by performing a similarity transformation using the matrix's eigenvectors; essentially, it means finding a new basis where the matrix representation is a diagonal matrix with the eigenvalues on the main diagonal, making calculations like raising the matrix to a power much simpler.\n",
        "\n",
        "This example shows how to diagonalize a symmetric matrix, verifying the diagonalization by reconstructing the original matrix."
      ],
      "metadata": {
        "id": "c4SnuQQ4eyrD"
      }
    },
    {
      "cell_type": "code",
      "source": [
        "def Diagonalization(A):\n",
        "    n = A.shape[0]  # n is number of rows and columns in A\n",
        "    D = np.zeros((3,3),dtype='complex128')\n",
        "    evalues,evectors = np.linalg.eig(A)\n",
        "\n",
        "    S = evectors\n",
        "    S_inverse = np.linalg.inv(S)\n",
        "\n",
        "    for i in range(0,n,1):\n",
        "        D[i][i] = evalues[i]\n",
        "\n",
        "    return S,D,S_inverse\n",
        "\n",
        "\n",
        "# Define a symmetric matrix\n",
        "A = np.array([[2, 1], [1, 3]])\n",
        "\n",
        "S, D, S_inverse = Diagonalization(A)\n",
        "print(\"S:\\n\", S)\n",
        "print(\"D:\\n\", D)\n",
        "print(\"S_inverse:\", S_inverse)\n"
      ],
      "metadata": {
        "colab": {
          "base_uri": "https://localhost:8080/"
        },
        "id": "MM7s9ptme3ZX",
        "outputId": "395aac1c-c074-4ae2-e321-eb6e3c45705e"
      },
      "execution_count": 8,
      "outputs": [
        {
          "output_type": "stream",
          "name": "stdout",
          "text": [
            "S:\n",
            " [[-0.85065081 -0.52573111]\n",
            " [ 0.52573111 -0.85065081]]\n",
            "D:\n",
            " [[1.38196601+0.j 0.        +0.j 0.        +0.j]\n",
            " [0.        +0.j 3.61803399+0.j 0.        +0.j]\n",
            " [0.        +0.j 0.        +0.j 0.        +0.j]]\n",
            "S_inverse: [[-0.85065081  0.52573111]\n",
            " [-0.52573111 -0.85065081]]\n"
          ]
        }
      ]
    }
  ]
}