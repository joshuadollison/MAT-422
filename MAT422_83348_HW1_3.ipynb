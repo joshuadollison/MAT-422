{
  "nbformat": 4,
  "nbformat_minor": 0,
  "metadata": {
    "colab": {
      "provenance": [],
      "authorship_tag": "ABX9TyP+JvIO1+mypqfW8V7er/UW",
      "include_colab_link": true
    },
    "kernelspec": {
      "name": "python3",
      "display_name": "Python 3"
    },
    "language_info": {
      "name": "python"
    }
  },
  "cells": [
    {
      "cell_type": "markdown",
      "metadata": {
        "id": "view-in-github",
        "colab_type": "text"
      },
      "source": [
        "<a href=\"https://colab.research.google.com/github/joshuadollison/MAT-422/blob/main/MAT422_83348_HW1_3.ipynb\" target=\"_parent\"><img src=\"https://colab.research.google.com/assets/colab-badge.svg\" alt=\"Open In Colab\"/></a>"
      ]
    },
    {
      "cell_type": "code",
      "execution_count": null,
      "metadata": {
        "id": "SP4EXViFAGKd"
      },
      "outputs": [],
      "source": [
        "import numpy as np\n",
        "import matplotlib.pyplot as plt"
      ]
    },
    {
      "cell_type": "markdown",
      "source": [
        "# **1.3.1 QR Decomposition**\n",
        "\n",
        "QR decomposition is a process in linear algebra where a matrix $A$ is factored into the product of two matrices: an orthogonal matrix $Q$ and an upper triangular matrix $R$. This decomposition is particularly useful for solving linear systems, least-squares problems, and eigenvalue computations.\n",
        "\n",
        "The decomposition is represented as: $A=QR$ where:\n",
        "* $A$ is the original matrix (usually of size $m \\times n$)\n",
        "* $Q$ is an orthogonal matrix (of size $m \\times m$), where $Q$ is a $\\mathbb{R}^{n \\times m}$ with $Q^TQ=I_{m \\times m}$ where $I$ is the identity matrix\n",
        "* $R$ is an upper triangular matrix (of size $m \\times n$).\n",
        "\n",
        "\n",
        "This example demonstrates how to perform QR decomposition on a matrix using NumPy's built-in function. The QR decomposition expresses the matrix as the product of an orthogonal matrix $Q$ and an upper triangular matrix $R$."
      ],
      "metadata": {
        "id": "-wbaoeRlAk10"
      }
    },
    {
      "cell_type": "code",
      "source": [
        "# Define a matrix\n",
        "A = np.array([[1, 2, 3],\n",
        "              [4, 5, 6],\n",
        "              [7, 8, 9]])\n",
        "\n",
        "# Perform QR decomposition\n",
        "Q, R = np.linalg.qr(A)\n",
        "\n",
        "# Output the orthogonal and upper triangular matrices\n",
        "print(\"Orthogonal matrix Q:\\n\", Q)\n",
        "print(\"Upper triangular matrix R:\\n\", R)"
      ],
      "metadata": {
        "colab": {
          "base_uri": "https://localhost:8080/"
        },
        "id": "yRhMgl0mE8dp",
        "outputId": "b53609e2-e5e7-4cd0-e3cb-1c65d0a0b738"
      },
      "execution_count": null,
      "outputs": [
        {
          "output_type": "stream",
          "name": "stdout",
          "text": [
            "Orthogonal matrix Q:\n",
            " [[-0.12309149  0.90453403  0.40824829]\n",
            " [-0.49236596  0.30151134 -0.81649658]\n",
            " [-0.86164044 -0.30151134  0.40824829]]\n",
            "Upper triangular matrix R:\n",
            " [[-8.12403840e+00 -9.60113630e+00 -1.10782342e+01]\n",
            " [ 0.00000000e+00  9.04534034e-01  1.80906807e+00]\n",
            " [ 0.00000000e+00  0.00000000e+00 -8.88178420e-16]]\n"
          ]
        }
      ]
    },
    {
      "cell_type": "markdown",
      "source": [
        "Here I verify that by multiplying the orthogonal and upper triangular matrices, I can reproduce the original matrix."
      ],
      "metadata": {
        "id": "KEiwfGusFK5_"
      }
    },
    {
      "cell_type": "code",
      "source": [
        "# Verify that A = QR\n",
        "A2 = np.dot(Q, R)\n",
        "print(\"Reconstructed matrix A:\\n\", A2)"
      ],
      "metadata": {
        "colab": {
          "base_uri": "https://localhost:8080/"
        },
        "id": "eLPOrcGfFLel",
        "outputId": "c460e40c-e724-4243-abe6-53f3117c56a5"
      },
      "execution_count": null,
      "outputs": [
        {
          "output_type": "stream",
          "name": "stdout",
          "text": [
            "Reconstructed matrix A:\n",
            " [[1. 2. 3.]\n",
            " [4. 5. 6.]\n",
            " [7. 8. 9.]]\n"
          ]
        }
      ]
    },
    {
      "cell_type": "markdown",
      "source": [
        "The text mentions that it may be easier to verify $A^T \\times R^T Q^T$.  Here we use numpy to prove that with our matrices as well."
      ],
      "metadata": {
        "id": "JD-AlbFPVSxu"
      }
    },
    {
      "cell_type": "code",
      "source": [
        "# Output the original matrix transpose\n",
        "AT = A.transpose()\n",
        "print(AT)\n",
        "\n",
        "# Multiply R^T x Q^T\n",
        "A3 = np.dot(R.transpose(), Q.transpose())\n",
        "\n",
        "# output to confirm\n",
        "print(A3)"
      ],
      "metadata": {
        "colab": {
          "base_uri": "https://localhost:8080/"
        },
        "id": "YCx4QUPRUw_J",
        "outputId": "d68976e8-0df9-48ef-edd5-d5f8e1f7ba8b"
      },
      "execution_count": null,
      "outputs": [
        {
          "output_type": "stream",
          "name": "stdout",
          "text": [
            "[[1 4 7]\n",
            " [2 5 8]\n",
            " [3 6 9]]\n",
            "[[1. 4. 7.]\n",
            " [2. 5. 8.]\n",
            " [3. 6. 9.]]\n"
          ]
        }
      ]
    },
    {
      "cell_type": "markdown",
      "source": [
        "# **1.3.2 Least-Squares Problems**\n",
        "\n",
        "Least Squares is a method used to approximate the solution to a system of linear equations when an exact solution does not exist, typically in the case of an overdetermined system (i.e., when there are more equations than unknowns). The least-squares method minimizes the sum of the squared differences (or residuals) between the observed values and the values predicted by the model.\n",
        "\n",
        "Solving the Least-Squares Problem:\n",
        "* The least-squares solution $x$ can be found by solving the normal equations: $A^T Ax = A^Tb$\n",
        "  * The text points out that this approach has \"numerical issues\"\n",
        "* A more stable method is to use QR decomposition. By decomposing $A$ into an orthogonal matrix $Q$ and an upper triangular matrix $R$ ($A=QR$ as described above in section 1.3.1), we can solve the least-squares problem by reducing it to solving a simpler system: $Rx^*=Q^Tb$.\n",
        "\n",
        "This example solves an overdetermined system of linear equations using the least-squares method in numpy."
      ],
      "metadata": {
        "id": "xPqWxrANZBUK"
      }
    },
    {
      "cell_type": "code",
      "source": [
        "# Define matrix A and vector b\n",
        "A = np.array([[1, 1],\n",
        "              [1, 2],\n",
        "              [1, 3]])\n",
        "b = np.array([1, 2, 2])\n",
        "\n",
        "# Solve the least-squares problem\n",
        "x, residuals, rank, s = np.linalg.lstsq(A, b, rcond=None)\n",
        "\n",
        "# Output the solution\n",
        "print(\"Solution vector x:\", x)\n",
        "print(\"Residuals:\", residuals)"
      ],
      "metadata": {
        "colab": {
          "base_uri": "https://localhost:8080/"
        },
        "id": "gBx0kxLsg_5K",
        "outputId": "91b2d02a-376d-4220-97cb-63f468a4b596"
      },
      "execution_count": null,
      "outputs": [
        {
          "output_type": "stream",
          "name": "stdout",
          "text": [
            "Solution vector x: [0.66666667 0.5       ]\n",
            "Residuals: [0.16666667]\n"
          ]
        }
      ]
    },
    {
      "cell_type": "markdown",
      "source": [
        "This example uses the QR decomposition method."
      ],
      "metadata": {
        "id": "MQL0BInXkxKT"
      }
    },
    {
      "cell_type": "code",
      "source": [
        "# Perform QR decomposition\n",
        "Q, R = np.linalg.qr(A)\n",
        "\n",
        "# Solve R * x = Q.T * b for x\n",
        "x_ls = np.linalg.solve(R, np.dot(Q.T, b))\n",
        "print(\"Least-squares solution using QR decomposition:\", x_ls)\n"
      ],
      "metadata": {
        "colab": {
          "base_uri": "https://localhost:8080/"
        },
        "id": "8gZJj8oRj_Bd",
        "outputId": "73a1ad7a-64ee-4f63-cb42-98f4520004bb"
      },
      "execution_count": null,
      "outputs": [
        {
          "output_type": "stream",
          "name": "stdout",
          "text": [
            "Least-squares solution using QR decomposition: [0.66666667 0.5       ]\n"
          ]
        }
      ]
    },
    {
      "cell_type": "markdown",
      "source": [
        "This example uses the normal equations method"
      ],
      "metadata": {
        "id": "I5MPnsYylPY4"
      }
    },
    {
      "cell_type": "code",
      "source": [
        "# Compute the normal equations A^T A and A^T b\n",
        "AtA = np.dot(A.T, A)\n",
        "Atb = np.dot(A.T, b)\n",
        "\n",
        "# Solve for x using the normal equations\n",
        "x = np.linalg.solve(AtA, Atb)\n",
        "\n",
        "# Output the solution\n",
        "print(\"Solution vector x:\", x)\n"
      ],
      "metadata": {
        "colab": {
          "base_uri": "https://localhost:8080/"
        },
        "id": "0aFJHTw9lHgy",
        "outputId": "e2ec896e-b218-41f8-c957-b0e7b3624feb"
      },
      "execution_count": null,
      "outputs": [
        {
          "output_type": "stream",
          "name": "stdout",
          "text": [
            "Solution vector x: [0.66666667 0.5       ]\n"
          ]
        }
      ]
    },
    {
      "cell_type": "markdown",
      "source": [
        "# **1.3.3 Linear Regression**\n",
        "\n",
        "Given input data points $\\{(x_i, y_i)\\}^{n}_{i=1}$ with each $x_i = (x_{i1}, ..., x_{id})^T$ we can take the common approach to fit the data such that:\n",
        "$\\sum_{i=1}^{n} (y_i - \\hat{y}_i)^2$, where $\\hat{y} = \\beta_0 + \\sum_{j=1}^{d} \\beta_jx_{ij}$ can be viewed as the predicted values of the linear model with coefficients $\\beta_j$.\n",
        "\n",
        "The result is that this is exactly the least squares problem described above.\n",
        "\n",
        "This example demonstrates how to fit a linear regression model using the least-squares approach. It finds the best-fitting line for a set of data points."
      ],
      "metadata": {
        "id": "HCkhNxosliIv"
      }
    },
    {
      "cell_type": "code",
      "source": [
        "# Define data points (x, y)\n",
        "x = np.array([1, 2, 3, 4, 5])\n",
        "y = np.array([2, 3, 5, 7, 11])\n",
        "\n",
        "# Create the design matrix (A = [1, x])\n",
        "A = np.vstack([np.ones(len(x)), x]).T\n",
        "\n",
        "# Solve the least-squares problem to find the regression coefficients\n",
        "coeffs, _, _, _ = np.linalg.lstsq(A, y, rcond=None)\n",
        "\n",
        "# Output the coefficients\n",
        "print(\"Regression coefficients (intercept, slope):\", coeffs)\n",
        "\n",
        "# Plot the data points and the fitted line\n",
        "plt.scatter(x, y, label=\"Data\")\n",
        "plt.plot(x, coeffs[0] + coeffs[1] * x, 'r', label=\"Fitted line\")\n",
        "plt.xlabel(\"x\")\n",
        "plt.ylabel(\"y\")\n",
        "plt.legend()\n",
        "plt.show()\n"
      ],
      "metadata": {
        "colab": {
          "base_uri": "https://localhost:8080/",
          "height": 466
        },
        "id": "y-THFotvl4Np",
        "outputId": "3f777342-5f29-49c8-9846-1d8a0948d190"
      },
      "execution_count": null,
      "outputs": [
        {
          "output_type": "stream",
          "name": "stdout",
          "text": [
            "Regression coefficients (intercept, slope): [-1.   2.2]\n"
          ]
        },
        {
          "output_type": "display_data",
          "data": {
            "text/plain": [
              "<Figure size 640x480 with 1 Axes>"
            ],
            "image/png": "[encoded data removed]"
          },
          "metadata": {}
        }
      ]
    }
  ]
}