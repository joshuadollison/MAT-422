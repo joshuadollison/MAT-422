{
  "nbformat": 4,
  "nbformat_minor": 0,
  "metadata": {
    "colab": {
      "provenance": [],
      "authorship_tag": "ABX9TyOaoXr/iqQ6R30HsV81RGhc",
      "include_colab_link": true
    },
    "kernelspec": {
      "name": "python3",
      "display_name": "Python 3"
    },
    "language_info": {
      "name": "python"
    }
  },
  "cells": [
    {
      "cell_type": "markdown",
      "metadata": {
        "id": "view-in-github",
        "colab_type": "text"
      },
      "source": [
        "<a href=\"https://colab.research.google.com/github/joshuadollison/MAT-422/blob/main/MAT422_83348_HW2_2.ipynb\" target=\"_parent\"><img src=\"https://colab.research.google.com/assets/colab-badge.svg\" alt=\"Open In Colab\"/></a>"
      ]
    },
    {
      "cell_type": "code",
      "source": [
        "import numpy as np"
      ],
      "metadata": {
        "id": "VKBYD1itJfix"
      },
      "execution_count": null,
      "outputs": []
    },
    {
      "cell_type": "markdown",
      "source": [
        "# **2.2.1. Probability axioms**"
      ],
      "metadata": {
        "id": "2k-Zx0MSJebM"
      }
    },
    {
      "cell_type": "code",
      "execution_count": null,
      "metadata": {
        "id": "SXVgY3f_vghu"
      },
      "outputs": [],
      "source": []
    },
    {
      "cell_type": "markdown",
      "source": [
        "# **2.2.2. Conditional probability**"
      ],
      "metadata": {
        "id": "OYyT-a6oJg9o"
      }
    },
    {
      "cell_type": "code",
      "source": [],
      "metadata": {
        "id": "sHk2T3AQJi3d"
      },
      "execution_count": null,
      "outputs": []
    },
    {
      "cell_type": "markdown",
      "source": [
        "# **2.2.3. Discrete random variables**"
      ],
      "metadata": {
        "id": "OHBZLoPqJiQV"
      }
    },
    {
      "cell_type": "markdown",
      "source": [
        "# **2.2.4. Continues random variables**"
      ],
      "metadata": {
        "id": "zCeWXAooJk31"
      }
    }
  ]
}