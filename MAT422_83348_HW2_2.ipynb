{
  "nbformat": 4,
  "nbformat_minor": 0,
  "metadata": {
    "colab": {
      "provenance": [],
      "authorship_tag": "ABX9TyO0kT+LebqvsUhKm3Hui7XF",
      "include_colab_link": true
    },
    "kernelspec": {
      "name": "python3",
      "display_name": "Python 3"
    },
    "language_info": {
      "name": "python"
    }
  },
  "cells": [
    {
      "cell_type": "markdown",
      "metadata": {
        "id": "view-in-github",
        "colab_type": "text"
      },
      "source": [
        "<a href=\"https://colab.research.google.com/github/joshuadollison/MAT-422/blob/main/MAT422_83348_HW2_2.ipynb\" target=\"_parent\"><img src=\"https://colab.research.google.com/assets/colab-badge.svg\" alt=\"Open In Colab\"/></a>"
      ]
    },
    {
      "cell_type": "code",
      "source": [
        "import numpy as np\n",
        "import math"
      ],
      "metadata": {
        "id": "VKBYD1itJfix"
      },
      "execution_count": 1,
      "outputs": []
    },
    {
      "cell_type": "markdown",
      "source": [
        "# **2.2.1. Probability axioms**\n",
        "\n",
        "The lecture notes state that, given an experiment and a sample space $S$, the probability distribution is a function which assign to each event $A$ a number $P(A)$, called the probability of the event $A$, which will give a precise measure of the chance that A will occur. The probability assignments should satisfy the following axioms (basic properties) of probability.\n",
        "\n",
        "- For any event $A$,$1 \\geq P(A)\\geq 0$\n",
        "- $P(S)=1$\n",
        "- If $A1,A2,A3,...$ is an infinite collection of disjoint events, then $P(A1 \\cup A2 \\cup A3 \\cup···) = \\sum_{i=1}^{\\infty}P(A_i)$\n",
        "- For any event $A,P(A)+P(A^\\prime) = 1$, from which $P(A) = 1 - P(A^{\\prime}$)\n",
        "- When events $A$ and $B$ are mutually exclusive, $P(A \\cup B) = P(A) + P(B)$\n",
        "- For any two events $A$ and $B$, $P(A \\cup B) = P(A)+P(B) - P(A \\cap B)$\n",
        "\n",
        "Below we show a few simple examples demonstrating these examples."
      ],
      "metadata": {
        "id": "2k-Zx0MSJebM"
      }
    },
    {
      "cell_type": "code",
      "execution_count": 2,
      "metadata": {
        "id": "SXVgY3f_vghu",
        "colab": {
          "base_uri": "https://localhost:8080/"
        },
        "outputId": "f9ace005-9331-4ed1-84d9-f290b383af84"
      },
      "outputs": [
        {
          "output_type": "stream",
          "name": "stdout",
          "text": [
            "Probability of A union B: 0.6\n",
            "Probability of complement of A: 0.6\n",
            "Probability of event A: 0.4\n"
          ]
        }
      ],
      "source": [
        "# Probability of two events A and B\n",
        "P_A = 0.4\n",
        "P_B = 0.3\n",
        "P_A_intersection_B = 0.1\n",
        "\n",
        "# Probability of A or B (union)\n",
        "P_A_union_B = P_A + P_B - P_A_intersection_B\n",
        "print(f\"Probability of A union B: {P_A_union_B}\")\n",
        "\n",
        "# Probability of complement of A\n",
        "P_A_complement = 1 - P_A\n",
        "print(f\"Probability of complement of A: {P_A_complement}\")\n",
        "\n",
        "# Sample space (S) and event (A)\n",
        "N = 10  # Total number of outcomes in the sample space\n",
        "N_A = 4  # Number of favorable outcomes for event A\n",
        "\n",
        "# Probability of event A\n",
        "P_A = N_A / N\n",
        "print(f\"Probability of event A: {P_A}\")"
      ]
    },
    {
      "cell_type": "markdown",
      "source": [
        "# **2.2.2. Conditional probability**\n",
        "\n",
        "The notes state that, conditional probability is defined as the likelihood of an event or outcome occurring, based on the occurrence of a previous event or outcome. The conditional probability is expressed as a ratio of unconditional probabilities:\n",
        "- The numerator is the probability of the intersection of the two events\n",
        "- The denominator is the probability of the conditioning event $B$.\n",
        "\n",
        "Given that $B$ has occurred, the relevant sample space is no longer $S$ but consists of outcomes in $B$; $A$ has occurred if and only if one of the outcomes in the intersection occurred, so the conditional probability of $A$ given $B$ is proportional to $P(A \\cap B)$.\n",
        "\n",
        "For any two events $A$ and $B$ with $P(B) > 0$, the conditional probability of $A$ given that $B$ has occurred is defined by $P(A | B) = \\frac{P(A \\cap B)}{P(B)}$\n",
        "\n",
        "Conditional probability give a rise to the multiplication rule $P(A \\cap B) = P(A | B) \\times P(B)$\n",
        "\n",
        "\n",
        "The simple scenario below demonstrates how to use this property in Python to calculate the probability that a card is an Ace given that it is a red card."
      ],
      "metadata": {
        "id": "OYyT-a6oJg9o"
      }
    },
    {
      "cell_type": "code",
      "source": [
        "P_A = 26 / 52  # 26 reds/ 52 cards\n",
        "P_A_and_B = 2 / 52  # 2 red Aces/ 52 cards\n",
        "\n",
        "P_A_given_B = P_A_and_B / P_A\n",
        "\n",
        "# Output the result\n",
        "print(f\"Probability of drawing an Ace given that the card is red: {P_A_given_B:.2f}\")"
      ],
      "metadata": {
        "colab": {
          "base_uri": "https://localhost:8080/"
        },
        "id": "v_mQTd-TTDGs",
        "outputId": "96ee0672-142d-4355-ad35-1012a74ca731"
      },
      "execution_count": 3,
      "outputs": [
        {
          "output_type": "stream",
          "name": "stdout",
          "text": [
            "Probability of drawing an Ace given that the card is red: 0.08\n"
          ]
        }
      ]
    },
    {
      "cell_type": "markdown",
      "source": [
        "A second example demonstrates the probability that it rains and you bring an umbrella using the multiplication rule."
      ],
      "metadata": {
        "id": "8HeZMbseWCs9"
      }
    },
    {
      "cell_type": "code",
      "source": [
        "# Given probabilities\n",
        "P_rain = 0.3  # P(A), probability that it rains\n",
        "P_umbrella_given_rain = 0.9  # P(B | A), probability that you bring an umbrella if it rains\n",
        "P_umbrella_given_no_rain = 0.2  # P(B | A'), probability that you bring an umbrella if it doesn't rain\n",
        "\n",
        "# Using the multiplication rule to compute P(A \\cap B) - probability that it rains and you bring an umbrella\n",
        "P_rain_and_umbrella = P_umbrella_given_rain * P_rain\n",
        "\n",
        "# Output the result\n",
        "print(f\"Probability that it rains and you bring an umbrella: {P_rain_and_umbrella:.2f}\")\n"
      ],
      "metadata": {
        "colab": {
          "base_uri": "https://localhost:8080/"
        },
        "id": "sHk2T3AQJi3d",
        "outputId": "27468473-d6d8-4349-c5ea-de7ecd487dcc"
      },
      "execution_count": 4,
      "outputs": [
        {
          "output_type": "stream",
          "name": "stdout",
          "text": [
            "Probability that it rains and you bring an umbrella: 0.27\n"
          ]
        }
      ]
    },
    {
      "cell_type": "markdown",
      "source": [
        "# **2.2.3. Discrete random variables**\n",
        "\n",
        "The class notes state that, a discrete random variable is a random variable whose possible values either constitute a finite set or else can be listed in an infinite sequence. A random variable is continuous if both of the following apply:\n",
        "- Its set of possible values consists all numbers in a single interval on the number line.\n",
        "- $P(X = c) = 0$ for any possible value individual $c$.\n",
        "\n",
        "The simple example below demonstrates using the binomial formula to calculate the discrete probability of getting exactly 6 heads out of 10 flips of a coin."
      ],
      "metadata": {
        "id": "OHBZLoPqJiQV"
      }
    },
    {
      "cell_type": "code",
      "source": [
        "n = 10  # flip it 10 times\n",
        "p = 0.5  # P(H)\n",
        "k = 6  # successes - 6 heads\n",
        "\n",
        "# Calculate the binomial probability mass function (PMF)\n",
        "binomial_prob = (math.factorial(n) / (math.factorial(k) * math.factorial(n - k))) * (p**k) * ((1 - p)**(n - k))\n",
        "\n",
        "# Output the result\n",
        "print(f\"Probability of getting exactly {k} heads in {n} flips: {binomial_prob:.4f}\")"
      ],
      "metadata": {
        "colab": {
          "base_uri": "https://localhost:8080/"
        },
        "id": "A5KdKgi7WWbw",
        "outputId": "fb1d5654-9591-4a07-85c6-a73d554f5c88"
      },
      "execution_count": 5,
      "outputs": [
        {
          "output_type": "stream",
          "name": "stdout",
          "text": [
            "Probability of getting exactly 6 heads in 10 flips: 0.2051\n"
          ]
        }
      ]
    },
    {
      "cell_type": "markdown",
      "source": [
        "A second example demonstrates using the Poisson formula to calculate the discrete probabiity of exactly 6 cars passing through a toll booth in a given minute, given that the average rate is 4 cars per minute."
      ],
      "metadata": {
        "id": "DILSkK_abYmX"
      }
    },
    {
      "cell_type": "code",
      "source": [
        "# Given values\n",
        "lambda_param = 4  # 4 cars per min\n",
        "k = 6  # 6 cars\n",
        "\n",
        "# Calculate the Poisson probability using the formula\n",
        "poisson_prob = (lambda_param**k * np.exp(-lambda_param)) / math.factorial(k)\n",
        "\n",
        "# Output the result\n",
        "print(f\"Probability of exactly {k} cars passing in a minute: {poisson_prob:.4f}\")"
      ],
      "metadata": {
        "colab": {
          "base_uri": "https://localhost:8080/"
        },
        "id": "kK66S33MbqO3",
        "outputId": "d480fb09-f194-4fb8-f129-460c9e318d6a"
      },
      "execution_count": 6,
      "outputs": [
        {
          "output_type": "stream",
          "name": "stdout",
          "text": [
            "Probability of exactly 6 cars passing in a minute: 0.1042\n"
          ]
        }
      ]
    },
    {
      "cell_type": "markdown",
      "source": [
        "# **2.2.4. Continues random variables**\n",
        "\n",
        "Alternatively, a continuous random variable is one which takes an infinite number of possible values. Continuous random variables are usually measurements.\n",
        "\n",
        "The example below shows how we might use Python to simulate the heights of a population and then calculate the probability of an event as a proportion using the normal distribution.  In this case we simulate heights and then predict the probability of a person having a height within a given range."
      ],
      "metadata": {
        "id": "zCeWXAooJk31"
      }
    },
    {
      "cell_type": "code",
      "source": [
        "# Given values\n",
        "mean_height = 170  # Mean height in cm\n",
        "std_dev_height = 10  # Standard deviation in cm\n",
        "\n",
        "# Define the range of interest: 160 cm to 180 cm\n",
        "lower_bound = 160\n",
        "upper_bound = 180\n",
        "\n",
        "# Generate random samples from the normal distribution\n",
        "heights = np.random.normal(mean_height, std_dev_height, 100000)\n",
        "\n",
        "# Calculate the proportion of heights between 160 cm and 180 cm\n",
        "proportion_in_range = np.sum((heights >= lower_bound) & (heights <= upper_bound)) / len(heights)\n",
        "\n",
        "# Output the result\n",
        "print(f\"Probability that a randomly selected adult has a height between 160 cm and 180 cm: {proportion_in_range:.4f}\")\n"
      ],
      "metadata": {
        "colab": {
          "base_uri": "https://localhost:8080/"
        },
        "id": "9pCWgDPRfWS2",
        "outputId": "2b44b25c-0c0e-4bf5-da76-d0667546c486"
      },
      "execution_count": 8,
      "outputs": [
        {
          "output_type": "stream",
          "name": "stdout",
          "text": [
            "Probability that a randomly selected adult has a height between 160 cm and 180 cm: 0.6827\n"
          ]
        }
      ]
    }
  ]
}